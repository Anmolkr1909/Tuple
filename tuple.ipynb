{
  "nbformat": 4,
  "nbformat_minor": 0,
  "metadata": {
    "colab": {
      "provenance": [],
      "authorship_tag": "ABX9TyMelq/d2RBI53pJhIKEdWlr",
      "include_colab_link": true
    },
    "kernelspec": {
      "name": "python3",
      "display_name": "Python 3"
    },
    "language_info": {
      "name": "python"
    }
  },
  "cells": [
    {
      "cell_type": "markdown",
      "metadata": {
        "id": "view-in-github",
        "colab_type": "text"
      },
      "source": [
        "<a href=\"https://colab.research.google.com/github/Anmolkr1909/Tuple/blob/main/tuple.ipynb\" target=\"_parent\"><img src=\"https://colab.research.google.com/assets/colab-badge.svg\" alt=\"Open In Colab\"/></a>"
      ]
    },
    {
      "cell_type": "markdown",
      "source": [
        "**Tuple (  mini_project )**"
      ],
      "metadata": {
        "id": "SFVmbQPs3iYX"
      }
    },
    {
      "cell_type": "markdown",
      "source": [
        "\n",
        "\n",
        "---\n",
        "\n",
        "\n",
        "\n"
      ],
      "metadata": {
        "id": "ikYvUCIl4aEn"
      }
    },
    {
      "cell_type": "markdown",
      "source": [
        "48) Student Profile Manager"
      ],
      "metadata": {
        "id": "sOgejXNE4iuE"
      }
    },
    {
      "cell_type": "code",
      "execution_count": null,
      "metadata": {
        "colab": {
          "base_uri": "https://localhost:8080/"
        },
        "id": "qNdJ4dYA3dV_",
        "outputId": "2ead7327-91a6-47bc-85cf-e19bad976279"
      },
      "outputs": [
        {
          "output_type": "stream",
          "name": "stdout",
          "text": [
            "Student Profile\n",
            "Name: Anmol Kumar\n",
            "Age: 22\n",
            "Course: MCA\n",
            "Country: India\n"
          ]
        }
      ],
      "source": [
        "student = (\"Anmol Kumar\", 22, \"MCA\", \"India\")\n",
        "\n",
        "# Unpack the tuple\n",
        "name, age, course, country = student\n",
        "\n",
        "# Display student profile\n",
        "print(\"Student Profile\")\n",
        "print(\"Name:\", name)\n",
        "print(\"Age:\", age)\n",
        "print(\"Course:\", course)\n",
        "print(\"Country:\", country)\n",
        "\n"
      ]
    },
    {
      "cell_type": "markdown",
      "source": [
        "\n",
        "\n",
        "---\n",
        "\n"
      ],
      "metadata": {
        "id": "Qwjwaujc49kO"
      }
    },
    {
      "cell_type": "markdown",
      "source": [
        "49) City Temperature Record"
      ],
      "metadata": {
        "id": "Nn_ZYPzw4-oC"
      }
    },
    {
      "cell_type": "code",
      "source": [
        "# Each tuple = (City, Today's Temp)\n",
        "temperatures = ((\"Delhi\", 42), (\"greater_noida\", 35), (\"Pune\", 33), (\"Lucknow\", 40))\n",
        "\n",
        "# Print city-wise temperatures\n",
        "print(\"Today's Temperatures:\")\n",
        "for city, temp in temperatures:\n",
        "    print(f\"{city}: {temp}°C\")\n"
      ],
      "metadata": {
        "colab": {
          "base_uri": "https://localhost:8080/"
        },
        "id": "LCyNXlHl5Fw3",
        "outputId": "f434868a-d82d-4dc6-d292-6cff7d6f891b"
      },
      "execution_count": null,
      "outputs": [
        {
          "output_type": "stream",
          "name": "stdout",
          "text": [
            "Today's Temperatures:\n",
            "Delhi: 42°C\n",
            "greater_noida: 35°C\n",
            "Pune: 33°C\n",
            "Lucknow: 40°C\n"
          ]
        }
      ]
    },
    {
      "cell_type": "markdown",
      "source": [
        "\n",
        "\n",
        "---\n",
        "\n"
      ],
      "metadata": {
        "id": "7ZNH8r2P5te8"
      }
    },
    {
      "cell_type": "markdown",
      "source": [
        "50) Quiz Score Checker"
      ],
      "metadata": {
        "id": "BvfqTZIF5ndJ"
      }
    },
    {
      "cell_type": "code",
      "source": [
        "# Scores of students (Name, Marks)\n",
        "scores = ((\"Anmol\", 86), (\"Ravi\", 65), (\"Priya\", 69), (\"Neha\", 75))\n",
        "\n",
        "# Check if someone scored more than 85\n",
        "print(\"High Scorers (Above 85):\")\n",
        "for name, mark in scores:\n",
        "    if mark > 85:\n",
        "        print(name, \"->\", mark)\n"
      ],
      "metadata": {
        "colab": {
          "base_uri": "https://localhost:8080/"
        },
        "id": "aun9lu8U4gZm",
        "outputId": "750f180d-9d4a-4c55-af37-4e21a61a171e"
      },
      "execution_count": null,
      "outputs": [
        {
          "output_type": "stream",
          "name": "stdout",
          "text": [
            "High Scorers (Above 85):\n",
            "Anmol -> 86\n"
          ]
        }
      ]
    },
    {
      "cell_type": "markdown",
      "source": [
        "\n",
        "\n",
        "---\n",
        "\n"
      ],
      "metadata": {
        "id": "nZswnFrj6E6a"
      }
    },
    {
      "cell_type": "markdown",
      "source": [
        "51) Product Price List\n"
      ],
      "metadata": {
        "id": "jNos5f7u6HMl"
      }
    },
    {
      "cell_type": "code",
      "source": [
        "# (Product, Price)\n",
        "products = ((\"Milk\", 40), (\"Bread\", 25), (\"Eggs\", 60))\n",
        "\n",
        "# User checks if \"Bread\" exists\n",
        "item = \"Bread\"\n",
        "found = False\n",
        "\n",
        "for product in products:\n",
        "    if product[0] == item:\n",
        "        found = True\n",
        "        print(f\"Yes, {item} costs ₹{product[1]}\")\n",
        "\n",
        "if not found:\n",
        "    print(\"Item not found.\")\n"
      ],
      "metadata": {
        "colab": {
          "base_uri": "https://localhost:8080/"
        },
        "id": "dq-C28zP6UUO",
        "outputId": "eee8e574-4058-4caf-aa18-f0b58340399d"
      },
      "execution_count": null,
      "outputs": [
        {
          "output_type": "stream",
          "name": "stdout",
          "text": [
            "Yes, Bread costs ₹25\n"
          ]
        }
      ]
    },
    {
      "cell_type": "markdown",
      "source": [
        "\n",
        "\n",
        "---\n",
        "\n"
      ],
      "metadata": {
        "id": "Wj_WGezV6HK6"
      }
    },
    {
      "cell_type": "markdown",
      "source": [
        "52) Weekly Task Schedule"
      ],
      "metadata": {
        "id": "OpHbOo7A6xpj"
      }
    },
    {
      "cell_type": "code",
      "source": [
        "# Days and task tuples\n",
        "week_schedule = (\n",
        "    (\"Monday\", \"Gym\"),\n",
        "    (\"Tuesday\", \"Study\"),\n",
        "    (\"Wednesday\", \"Shopping\"),\n",
        "    (\"Thursday\", \"Project\"),\n",
        "    (\"Friday\", \"Movie\")\n",
        ")\n",
        "\n",
        "# Print all tasks day-wise\n",
        "print(\"Weekly Schedule:\")\n",
        "for day, task in week_schedule:\n",
        "    print(f\"{day}: {task}\")\n"
      ],
      "metadata": {
        "colab": {
          "base_uri": "https://localhost:8080/"
        },
        "id": "z8p7zT-X61IJ",
        "outputId": "9e0e408d-b1d2-48a3-a34c-d71d25ff7da5"
      },
      "execution_count": null,
      "outputs": [
        {
          "output_type": "stream",
          "name": "stdout",
          "text": [
            "Weekly Schedule:\n",
            "Monday: Gym\n",
            "Tuesday: Study\n",
            "Wednesday: Shopping\n",
            "Thursday: Project\n",
            "Friday: Movie\n"
          ]
        }
      ]
    },
    {
      "cell_type": "markdown",
      "source": [
        "\n",
        "\n",
        "---\n",
        "\n",
        "\n",
        "\n",
        "---\n",
        "\n"
      ],
      "metadata": {
        "id": "y3PQA11l7dzb"
      }
    }
  ]
}